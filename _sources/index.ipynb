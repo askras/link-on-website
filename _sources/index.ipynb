{
 "cells": [
  {
   "cell_type": "markdown",
   "id": "2372f96a",
   "metadata": {},
   "source": [
    "# Каталог полезных ссылок\n",
    "\n",
    "```{tableofcontents}\n",
    "```"
   ]
  }
 ],
 "metadata": {
  "jupytext": {
   "text_representation": {
    "extension": ".md",
    "format_name": "myst"
   }
  },
  "kernelspec": {
   "display_name": "Python 3",
   "language": "python",
   "name": "python3"
  },
  "source_map": [
   10
  ]
 },
 "nbformat": 4,
 "nbformat_minor": 5
}